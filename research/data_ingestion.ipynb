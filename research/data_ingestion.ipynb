{
 "cells": [
  {
   "cell_type": "code",
   "execution_count": 1,
   "metadata": {},
   "outputs": [],
   "source": [
    "import os \n",
    "import sys \n"
   ]
  },
  {
   "cell_type": "code",
   "execution_count": 2,
   "metadata": {},
   "outputs": [
    {
     "data": {
      "text/plain": [
       "'/home/googlyji/ml_projects/dl_projects/brain_tumor/brain-tumor-classification/research'"
      ]
     },
     "execution_count": 2,
     "metadata": {},
     "output_type": "execute_result"
    }
   ],
   "source": [
    "os.getcwd()"
   ]
  },
  {
   "cell_type": "code",
   "execution_count": 6,
   "metadata": {},
   "outputs": [],
   "source": [
    "from dataclasses import dataclass"
   ]
  },
  {
   "cell_type": "code",
   "execution_count": 3,
   "metadata": {},
   "outputs": [],
   "source": [
    "os.chdir(\"../\")"
   ]
  },
  {
   "cell_type": "code",
   "execution_count": 4,
   "metadata": {},
   "outputs": [
    {
     "data": {
      "text/plain": [
       "'/home/googlyji/ml_projects/dl_projects/brain_tumor/brain-tumor-classification'"
      ]
     },
     "execution_count": 4,
     "metadata": {},
     "output_type": "execute_result"
    }
   ],
   "source": [
    "os.getcwd()"
   ]
  },
  {
   "cell_type": "code",
   "execution_count": 44,
   "metadata": {},
   "outputs": [],
   "source": [
    "from src.brain_tumor_classification.exception import Custom_Exception\n",
    "from src.brain_tumor_classification.logger import logging \n",
    "from src.brain_tumor_classification.utils.common import *"
   ]
  },
  {
   "cell_type": "code",
   "execution_count": 48,
   "metadata": {},
   "outputs": [],
   "source": [
    "from src.brain_tumor_classification.constants import *"
   ]
  },
  {
   "cell_type": "code",
   "execution_count": null,
   "metadata": {},
   "outputs": [],
   "source": [
    "read_yaml()"
   ]
  },
  {
   "cell_type": "code",
   "execution_count": 31,
   "metadata": {},
   "outputs": [],
   "source": [
    "@dataclass\n",
    "class data_ingestion:\n",
    "    root_dir: Path\n",
    "    uznip_files: Path \n",
    "    download_file: Path "
   ]
  },
  {
   "cell_type": "code",
   "execution_count": 40,
   "metadata": {},
   "outputs": [],
   "source": [
    "class DATA_INGESTION_MANAGER_CONFIG:\n",
    "\n",
    "    try:\n",
    "        def __init__(self,config_path=CONFIG_PATH,param_path=PARAMS_PATH):\n",
    "            config_path = Path(config_path)\n",
    "            param_path = Path(param_path)\n",
    "            self.config=read_yaml(config_path)\n",
    "            self.params=read_yaml(param_path)\n",
    "\n",
    "            create_directories([self.config.artifacts_root])\n",
    "\n",
    "        def config_manager(self)->data_ingestion:\n",
    "            config=self.config.Data_ingestion\n",
    "\n",
    "            create_directories([config.root_dir])\n",
    "\n",
    "\n",
    "            Data_ingestion=data_ingestion(root_dir=config.root_dir,\n",
    "                                        uznip_files=config.uznip_files,\n",
    "                                        download_file=config.download_file)\n",
    "            \n",
    "            return Data_ingestion\n",
    "\n",
    "    except Exception as e:\n",
    "        raise(Custom_Exception(e,sys))\n",
    "    \n",
    "\n",
    "\n"
   ]
  },
  {
   "cell_type": "code",
   "execution_count": 41,
   "metadata": {},
   "outputs": [],
   "source": [
    "import shutil"
   ]
  },
  {
   "cell_type": "code",
   "execution_count": 61,
   "metadata": {},
   "outputs": [],
   "source": [
    "class comp_data_ingestion:\n",
    "    try:\n",
    "        def __init__(self,config1:data_ingestion):\n",
    "            self.config=config1\n",
    "\n",
    "        def extract_data(self):\n",
    "        \n",
    "            shutil.copytree(self.config.download_file,os.path.join(self.config.uznip_files),dirs_exist_ok=True)\n",
    "\n",
    "    except Exception as e:\n",
    "        raise(Custom_Exception(e,sys))\n"
   ]
  },
  {
   "cell_type": "code",
   "execution_count": 62,
   "metadata": {},
   "outputs": [],
   "source": [
    "try:\n",
    "    b=DATA_INGESTION_MANAGER_CONFIG()\n",
    "    x=b.config_manager()\n",
    "    v=comp_data_ingestion(x)\n",
    "    v.extract_data()\n",
    "\n",
    "except Exception as e:\n",
    "    raise(Custom_Exception(e,sys))"
   ]
  },
  {
   "cell_type": "code",
   "execution_count": null,
   "metadata": {},
   "outputs": [],
   "source": []
  },
  {
   "cell_type": "code",
   "execution_count": null,
   "metadata": {},
   "outputs": [],
   "source": []
  }
 ],
 "metadata": {
  "kernelspec": {
   "display_name": "brain",
   "language": "python",
   "name": "python3"
  },
  "language_info": {
   "codemirror_mode": {
    "name": "ipython",
    "version": 3
   },
   "file_extension": ".py",
   "mimetype": "text/x-python",
   "name": "python",
   "nbconvert_exporter": "python",
   "pygments_lexer": "ipython3",
   "version": "3.8.19"
  }
 },
 "nbformat": 4,
 "nbformat_minor": 2
}
