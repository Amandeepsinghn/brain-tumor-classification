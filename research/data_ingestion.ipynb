{
 "cells": [
  {
   "cell_type": "code",
   "execution_count": 1,
   "metadata": {},
   "outputs": [],
   "source": [
    "import os \n",
    "import sys \n"
   ]
  },
  {
   "cell_type": "code",
   "execution_count": 2,
   "metadata": {},
   "outputs": [
    {
     "data": {
      "text/plain": [
       "'/home/googlyji/ml_projects/dl_projects/brain_tumor/brain-tumor-classification/research'"
      ]
     },
     "execution_count": 2,
     "metadata": {},
     "output_type": "execute_result"
    }
   ],
   "source": [
    "os.getcwd()"
   ]
  },
  {
   "cell_type": "code",
   "execution_count": 3,
   "metadata": {},
   "outputs": [],
   "source": [
    "from dataclasses import dataclass"
   ]
  },
  {
   "cell_type": "code",
   "execution_count": 4,
   "metadata": {},
   "outputs": [],
   "source": [
    "os.chdir(\"../\")"
   ]
  },
  {
   "cell_type": "code",
   "execution_count": 5,
   "metadata": {},
   "outputs": [
    {
     "data": {
      "text/plain": [
       "'/home/googlyji/ml_projects/dl_projects/brain_tumor/brain-tumor-classification'"
      ]
     },
     "execution_count": 5,
     "metadata": {},
     "output_type": "execute_result"
    }
   ],
   "source": [
    "os.getcwd()"
   ]
  },
  {
   "cell_type": "code",
   "execution_count": 6,
   "metadata": {},
   "outputs": [],
   "source": [
    "from src.brain_tumor_classification.exception import Custom_Exception\n",
    "from src.brain_tumor_classification.logger import logging \n",
    "from src.brain_tumor_classification.utils.common import *"
   ]
  },
  {
   "cell_type": "code",
   "execution_count": 7,
   "metadata": {},
   "outputs": [],
   "source": [
    "from src.brain_tumor_classification.constants import *"
   ]
  },
  {
   "cell_type": "code",
   "execution_count": 8,
   "metadata": {},
   "outputs": [
    {
     "ename": "TypeError",
     "evalue": "read_yaml() missing 1 required positional argument: 'path_to_yaml'",
     "output_type": "error",
     "traceback": [
      "\u001b[0;31m---------------------------------------------------------------------------\u001b[0m",
      "\u001b[0;31mTypeError\u001b[0m                                 Traceback (most recent call last)",
      "Cell \u001b[0;32mIn[8], line 1\u001b[0m\n\u001b[0;32m----> 1\u001b[0m \u001b[43mread_yaml\u001b[49m\u001b[43m(\u001b[49m\u001b[43m)\u001b[49m\n",
      "File \u001b[0;32m~/anaconda3/envs/brain/lib/python3.8/site-packages/ensure/main.py:849\u001b[0m, in \u001b[0;36mWrappedFunctionReturn.__call__\u001b[0;34m(self, *args, **kwargs)\u001b[0m\n\u001b[1;32m    841\u001b[0m         msg \u001b[38;5;241m=\u001b[39m (\n\u001b[1;32m    842\u001b[0m             \u001b[38;5;124m\"\u001b[39m\u001b[38;5;124mArgument \u001b[39m\u001b[38;5;132;01m{arg}\u001b[39;00m\u001b[38;5;124m of type \u001b[39m\u001b[38;5;132;01m{valt}\u001b[39;00m\u001b[38;5;124m to \u001b[39m\u001b[38;5;132;01m{f}\u001b[39;00m\u001b[38;5;124m \u001b[39m\u001b[38;5;124m\"\u001b[39m\n\u001b[1;32m    843\u001b[0m             \u001b[38;5;124m\"\u001b[39m\u001b[38;5;124mdoes not match annotation type \u001b[39m\u001b[38;5;132;01m{t}\u001b[39;00m\u001b[38;5;124m\"\u001b[39m\n\u001b[1;32m    844\u001b[0m         )\n\u001b[1;32m    845\u001b[0m         \u001b[38;5;28;01mraise\u001b[39;00m EnsureError(msg\u001b[38;5;241m.\u001b[39mformat(\n\u001b[1;32m    846\u001b[0m             arg\u001b[38;5;241m=\u001b[39marg, f\u001b[38;5;241m=\u001b[39m\u001b[38;5;28mself\u001b[39m\u001b[38;5;241m.\u001b[39mf, t\u001b[38;5;241m=\u001b[39mtempl, valt\u001b[38;5;241m=\u001b[39m\u001b[38;5;28mtype\u001b[39m(value)\n\u001b[1;32m    847\u001b[0m         ))\n\u001b[0;32m--> 849\u001b[0m return_val \u001b[38;5;241m=\u001b[39m \u001b[38;5;28;43mself\u001b[39;49m\u001b[38;5;241;43m.\u001b[39;49m\u001b[43mf\u001b[49m\u001b[43m(\u001b[49m\u001b[38;5;241;43m*\u001b[39;49m\u001b[43margs\u001b[49m\u001b[43m,\u001b[49m\u001b[43m \u001b[49m\u001b[38;5;241;43m*\u001b[39;49m\u001b[38;5;241;43m*\u001b[39;49m\u001b[43mkwargs\u001b[49m\u001b[43m)\u001b[49m\n\u001b[1;32m    850\u001b[0m \u001b[38;5;28;01mif\u001b[39;00m \u001b[38;5;129;01mnot\u001b[39;00m \u001b[38;5;28misinstance\u001b[39m(return_val, \u001b[38;5;28mself\u001b[39m\u001b[38;5;241m.\u001b[39mreturn_templ):\n\u001b[1;32m    851\u001b[0m     msg \u001b[38;5;241m=\u001b[39m (\n\u001b[1;32m    852\u001b[0m         \u001b[38;5;124m\"\u001b[39m\u001b[38;5;124mReturn value of \u001b[39m\u001b[38;5;132;01m{f}\u001b[39;00m\u001b[38;5;124m of type \u001b[39m\u001b[38;5;132;01m{valt}\u001b[39;00m\u001b[38;5;124m \u001b[39m\u001b[38;5;124m\"\u001b[39m\n\u001b[1;32m    853\u001b[0m         \u001b[38;5;124m\"\u001b[39m\u001b[38;5;124mdoes not match annotation type \u001b[39m\u001b[38;5;132;01m{t}\u001b[39;00m\u001b[38;5;124m\"\u001b[39m\n\u001b[1;32m    854\u001b[0m     )\n",
      "\u001b[0;31mTypeError\u001b[0m: read_yaml() missing 1 required positional argument: 'path_to_yaml'"
     ]
    }
   ],
   "source": [
    "read_yaml()"
   ]
  },
  {
   "cell_type": "code",
   "execution_count": 9,
   "metadata": {},
   "outputs": [],
   "source": [
    "@dataclass\n",
    "class data_ingestion:\n",
    "    root_dir: Path\n",
    "    uznip_files: Path \n",
    "    download_file: Path "
   ]
  },
  {
   "cell_type": "code",
   "execution_count": 10,
   "metadata": {},
   "outputs": [],
   "source": [
    "class DATA_INGESTION_MANAGER_CONFIG:\n",
    "\n",
    "    try:\n",
    "        def __init__(self,config_path=CONFIG_PATH,param_path=PARAMS_PATH):\n",
    "            config_path = Path(config_path)\n",
    "            param_path = Path(param_path)\n",
    "            self.config=read_yaml(config_path)\n",
    "            self.params=read_yaml(param_path)\n",
    "\n",
    "            create_directories([self.config.artifacts_root])\n",
    "\n",
    "        def config_manager(self)->data_ingestion:\n",
    "            config=self.config.Data_ingestion\n",
    "\n",
    "            create_directories([config.root_dir])\n",
    "\n",
    "\n",
    "            Data_ingestion=data_ingestion(root_dir=config.root_dir,\n",
    "                                        uznip_files=config.uznip_files,\n",
    "                                        download_file=config.download_file)\n",
    "            \n",
    "            return Data_ingestion\n",
    "\n",
    "    except Exception as e:\n",
    "        raise(Custom_Exception(e,sys))\n",
    "    \n",
    "\n",
    "\n"
   ]
  },
  {
   "cell_type": "code",
   "execution_count": 11,
   "metadata": {},
   "outputs": [],
   "source": [
    "import shutil"
   ]
  },
  {
   "cell_type": "code",
   "execution_count": 12,
   "metadata": {},
   "outputs": [],
   "source": [
    "class comp_data_ingestion:\n",
    "    try:\n",
    "        def __init__(self,config1:data_ingestion):\n",
    "            self.config=config1\n",
    "\n",
    "        def extract_data(self):\n",
    "        \n",
    "            shutil.copytree(self.config.download_file,os.path.join(self.config.uznip_files),dirs_exist_ok=True)\n",
    "\n",
    "    except Exception as e:\n",
    "        raise(Custom_Exception(e,sys))\n"
   ]
  },
  {
   "cell_type": "code",
   "execution_count": 13,
   "metadata": {},
   "outputs": [],
   "source": [
    "try:\n",
    "    b=DATA_INGESTION_MANAGER_CONFIG()\n",
    "    x=b.config_manager()\n",
    "    v=comp_data_ingestion(x)\n",
    "    v.extract_data()\n",
    "\n",
    "except Exception as e:\n",
    "    raise(Custom_Exception(e,sys))"
   ]
  },
  {
   "cell_type": "code",
   "execution_count": null,
   "metadata": {},
   "outputs": [],
   "source": []
  },
  {
   "cell_type": "code",
   "execution_count": null,
   "metadata": {},
   "outputs": [],
   "source": []
  }
 ],
 "metadata": {
  "kernelspec": {
   "display_name": "brain",
   "language": "python",
   "name": "python3"
  },
  "language_info": {
   "codemirror_mode": {
    "name": "ipython",
    "version": 3
   },
   "file_extension": ".py",
   "mimetype": "text/x-python",
   "name": "python",
   "nbconvert_exporter": "python",
   "pygments_lexer": "ipython3",
   "version": "3.8.19"
  }
 },
 "nbformat": 4,
 "nbformat_minor": 2
}
