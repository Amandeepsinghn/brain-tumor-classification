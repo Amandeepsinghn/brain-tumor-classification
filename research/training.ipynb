{
 "cells": [
  {
   "cell_type": "code",
   "execution_count": 5,
   "metadata": {},
   "outputs": [],
   "source": [
    "import tensorflow as tf\n",
    "import os \n",
    "import sys \n",
    "from src.brain_tumor_classification.exception import Custom_Exception\n",
    "from src.brain_tumor_classification.logger import logging\n",
    "from tensorflow import keras "
   ]
  },
  {
   "cell_type": "code",
   "execution_count": 6,
   "metadata": {},
   "outputs": [],
   "source": [
    "from src.brain_tumor_classification.constants import *\n",
    "from src.brain_tumor_classification.utils.common import *"
   ]
  },
  {
   "cell_type": "code",
   "execution_count": 4,
   "metadata": {},
   "outputs": [
    {
     "data": {
      "text/plain": [
       "'/home/googlyji/ml_projects/dl_projects/brain_tumor/brain-tumor-classification'"
      ]
     },
     "execution_count": 4,
     "metadata": {},
     "output_type": "execute_result"
    }
   ],
   "source": [
    "os.getcwd()"
   ]
  },
  {
   "cell_type": "code",
   "execution_count": 3,
   "metadata": {},
   "outputs": [],
   "source": [
    "os.chdir(\"../\")"
   ]
  },
  {
   "cell_type": "code",
   "execution_count": null,
   "metadata": {},
   "outputs": [],
   "source": []
  },
  {
   "cell_type": "code",
   "execution_count": 7,
   "metadata": {},
   "outputs": [],
   "source": [
    "from dataclasses import dataclass\n",
    "from pathlib import Path"
   ]
  },
  {
   "cell_type": "code",
   "execution_count": 109,
   "metadata": {},
   "outputs": [],
   "source": [
    "@dataclass(frozen=True)\n",
    "class Training_Config:\n",
    "    root_dir:Path\n",
    "    trained_model_path:Path\n",
    "    updated_model_weights:Path\n",
    "    training_data: Path \n",
    "    params_epochs: int \n",
    "    params_image_size: list  \n",
    "\n",
    "\n",
    "\n",
    "\n",
    "@dataclass\n",
    "class check_:\n",
    "    root_dir: Path\n",
    "    tensorboard_dir: Path\n",
    "    checkpoint: Path"
   ]
  },
  {
   "cell_type": "code",
   "execution_count": 110,
   "metadata": {},
   "outputs": [],
   "source": [
    "# components \n",
    "class Configuration_manager:\n",
    "\n",
    "    def __init__(self,config_path=CONFIG_PATH,param_path=PARAMS_PATH):\n",
    "        config_path = Path(config_path)\n",
    "        param_path = Path(param_path)\n",
    "        self.config=read_yaml(config_path)\n",
    "        self.params=read_yaml(param_path)\n",
    "\n",
    "        create_directories([self.config.artifacts_root])\n",
    "\n",
    "\n",
    "    def config_check(self)->check_:\n",
    "        \n",
    "        config=self.config.prepare_callbacks\n",
    "\n",
    "        create_directories([config.root_dir])\n",
    "        create_directories([config.tensorboard_dir])\n",
    "        create_directories([config.checkpoint])\n",
    "\n",
    "\n",
    "        data_checkpoint=check_(\n",
    "            root_dir=config.root_dir,\n",
    "            tensorboard_dir=config.tensorboard_dir,\n",
    "            checkpoint=config.checkpoint\n",
    "            )\n",
    "        \n",
    "        return data_checkpoint\n",
    "    \n",
    "\n",
    "    def training_config(self)-> Training_Config:\n",
    "        training=self.config.training\n",
    "        params=self.params\n",
    "        prepare_updated_model=self.config.base_model\n",
    "        training_data=os.path.join(\"artifacts/data_ingestion/files/bain_tumor/Training\")\n",
    "\n",
    "        create_directories([training.root_dir])\n",
    "\n",
    "\n",
    "        training_config=Training_Config(\n",
    "            root_dir=Path(training.root_dir),\n",
    "            trained_model_path=Path(training.trained_model_path),\n",
    "            updated_model_weights=Path(prepare_updated_model.updated_model_weights),\n",
    "            training_data=Path(training_data), \n",
    "            params_epochs=params.epochs, \n",
    "            params_image_size=params.Image_size\n",
    "            )  \n",
    "\n",
    "        return training_config\n",
    "    \n"
   ]
  },
  {
   "cell_type": "code",
   "execution_count": 111,
   "metadata": {},
   "outputs": [],
   "source": [
    "from datetime import datetime"
   ]
  },
  {
   "cell_type": "code",
   "execution_count": 112,
   "metadata": {},
   "outputs": [
    {
     "data": {
      "text/plain": [
       "'73'"
      ]
     },
     "execution_count": 112,
     "metadata": {},
     "output_type": "execute_result"
    }
   ],
   "source": [
    "str(datetime.now().strftime(\"%s\")[8:])"
   ]
  },
  {
   "cell_type": "code",
   "execution_count": null,
   "metadata": {},
   "outputs": [],
   "source": []
  },
  {
   "cell_type": "code",
   "execution_count": 113,
   "metadata": {},
   "outputs": [],
   "source": [
    "import os\n",
    "import urllib.request as request\n",
    "from zipfile import ZipFile\n",
    "import tensorflow as tf\n",
    "import time\n"
   ]
  },
  {
   "cell_type": "code",
   "execution_count": 118,
   "metadata": {},
   "outputs": [],
   "source": [
    "# components\n",
    "class comp_checkpoint_ingestion:\n",
    "    def __init__(self,config1:check_):\n",
    "        self.config=config1\n",
    "\n",
    "\n",
    "    def create_tb_intialization(self):\n",
    "\n",
    "        a=datetime.now().strftime(\"%H-%M\")\n",
    "\n",
    "        running_logs=os.path.join(self.config.tensorboard_dir,a)\n",
    "\n",
    "        return tf.keras.callbacks.TensorBoard(log_dir=running_logs)\n",
    "\n",
    "    \n",
    "    def create_chkpt_callbacks(self):\n",
    "\n",
    "        a=datetime.now().strftime(\"%s\")[8:]\n",
    "\n",
    "        model_path=os.path.join(self.config.checkpoint,f\"model{str(a)}.h5\")\n",
    "\n",
    "        return tf.keras.callbacks.ModelCheckpoint(filepath=model_path,save_best_only=True)\n",
    "\n",
    "        \n",
    "    \n",
    "\n",
    "    def callback_tb_ckt(self):\n",
    "        \n",
    "        return [self.create_tb_intialization(),self.create_chkpt_callbacks()]\n",
    "    \n",
    "\n",
    "\n"
   ]
  },
  {
   "cell_type": "code",
   "execution_count": 119,
   "metadata": {},
   "outputs": [],
   "source": [
    "from tensorflow.keras.preprocessing.image import ImageDataGenerator\n",
    "import tensorflow "
   ]
  },
  {
   "cell_type": "code",
   "execution_count": 120,
   "metadata": {},
   "outputs": [],
   "source": [
    "class Training:\n",
    "    def __init__(self,config:Training_Config):\n",
    "        self.config=config\n",
    "\n",
    "    \n",
    "    def get_updated_base_model(self):\n",
    "        self.model=tf.keras.models.load_model(self.config.updated_model_weights)\n",
    "\n",
    "\n",
    "    def train_images(self):\n",
    "        self.train_ds=tf.keras.preprocessing.image.ImageDataGenerator(\n",
    "                rescale=1./255.,\n",
    "                validation_split=0.2,\n",
    "                horizontal_flip=True,rotation_range=0.2,zoom_range=0.2)\n",
    "        \n",
    "        self.val_ds=tf.keras.preprocessing.image.ImageDataGenerator(\n",
    "            rescale=1./255.,\n",
    "            validation_split=0.2\n",
    "        )\n",
    "        \n",
    "        self.train_img=self.train_ds.flow_from_directory(self.config.training_data,target_size=(224,224),\n",
    "                                                      class_mode=\"categorical\",batch_size=12,seed=1337,\n",
    "                                                      subset=\"training\")\n",
    "        \n",
    "        self.valid_img=self.val_ds.flow_from_directory(self.config.training_data,target_size=(224,224),\n",
    "                                                 class_mode=\"categorical\",batch_size=12,seed=1337,\n",
    "                                                 subset=\"validation\")\n",
    "        \n",
    "\n",
    "    def train_model(self,callbacks_list:list):\n",
    "        self.callbacks=callbacks_list\n",
    "        self.model.fit(self.train_img,\n",
    "                       epochs=self.config.params_epochs,\n",
    "                       validation_data=self.valid_img,\n",
    "                       callbacks=self.callbacks)\n",
    "        \n",
    "        self.model.save(self.config.trained_model_path)\n",
    "\n",
    "\n",
    "\n"
   ]
  },
  {
   "cell_type": "code",
   "execution_count": 121,
   "metadata": {},
   "outputs": [
    {
     "name": "stdout",
     "output_type": "stream",
     "text": [
      "Found 4571 images belonging to 4 classes.\n",
      "Found 1141 images belonging to 4 classes.\n",
      "381/381 [==============================] - 570s 1s/step - loss: 0.6783 - accuracy: 0.7436 - val_loss: 0.7608 - val_accuracy: 0.7082\n"
     ]
    },
    {
     "name": "stderr",
     "output_type": "stream",
     "text": [
      "/home/googlyji/anaconda3/envs/brain/lib/python3.8/site-packages/keras/src/engine/training.py:3000: UserWarning: You are saving your model as an HDF5 file via `model.save()`. This file format is considered legacy. We recommend using instead the native Keras format, e.g. `model.save('my_model.keras')`.\n",
      "  saving_api.save_model(\n"
     ]
    }
   ],
   "source": [
    "a=Configuration_manager()\n",
    "v=a.config_check()\n",
    "z=a.training_config()\n",
    "chk=comp_checkpoint_ingestion(v)\n",
    "t=chk.callback_tb_ckt()\n",
    "c=chk.create_chkpt_callbacks()\n",
    "tc=chk.callback_tb_ckt()\n",
    "T=Training(z)\n",
    "T.get_updated_base_model()\n",
    "T.train_images()\n",
    "T.train_model(tc)"
   ]
  },
  {
   "cell_type": "code",
   "execution_count": null,
   "metadata": {},
   "outputs": [],
   "source": []
  },
  {
   "cell_type": "code",
   "execution_count": null,
   "metadata": {},
   "outputs": [],
   "source": []
  },
  {
   "cell_type": "code",
   "execution_count": null,
   "metadata": {},
   "outputs": [],
   "source": []
  },
  {
   "cell_type": "code",
   "execution_count": 37,
   "metadata": {},
   "outputs": [],
   "source": [
    "import tensorflow as tf\n",
    "from tensorflow import keras"
   ]
  },
  {
   "cell_type": "code",
   "execution_count": 18,
   "metadata": {},
   "outputs": [],
   "source": [
    "from tensorflow.keras.models import save_model"
   ]
  },
  {
   "cell_type": "code",
   "execution_count": null,
   "metadata": {},
   "outputs": [],
   "source": []
  }
 ],
 "metadata": {
  "kernelspec": {
   "display_name": "brain",
   "language": "python",
   "name": "python3"
  },
  "language_info": {
   "codemirror_mode": {
    "name": "ipython",
    "version": 3
   },
   "file_extension": ".py",
   "mimetype": "text/x-python",
   "name": "python",
   "nbconvert_exporter": "python",
   "pygments_lexer": "ipython3",
   "version": "3.8.19"
  }
 },
 "nbformat": 4,
 "nbformat_minor": 2
}
