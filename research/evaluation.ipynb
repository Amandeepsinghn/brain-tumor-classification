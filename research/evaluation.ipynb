{
 "cells": [
  {
   "cell_type": "code",
   "execution_count": 2,
   "metadata": {},
   "outputs": [
    {
     "data": {
      "text/plain": [
       "'/home/googlyji/ml_projects/dl_projects/brain_tumor/brain-tumor-classification'"
      ]
     },
     "execution_count": 2,
     "metadata": {},
     "output_type": "execute_result"
    }
   ],
   "source": [
    "import os \n",
    "os.chdir(\"../\")\n",
    "os.getcwd()"
   ]
  },
  {
   "cell_type": "code",
   "execution_count": 3,
   "metadata": {},
   "outputs": [],
   "source": [
    "from src.brain_tumor_classification.logger import logging \n",
    "from src.brain_tumor_classification.exception import Custom_Exception"
   ]
  },
  {
   "cell_type": "code",
   "execution_count": 8,
   "metadata": {},
   "outputs": [],
   "source": [
    "import tensorflow as tf \n",
    "from tensorflow import keras \n",
    "from dataclasses import dataclass\n",
    "from pathlib import Path "
   ]
  },
  {
   "cell_type": "code",
   "execution_count": 16,
   "metadata": {},
   "outputs": [],
   "source": [
    "import sys"
   ]
  },
  {
   "cell_type": "code",
   "execution_count": 11,
   "metadata": {},
   "outputs": [],
   "source": [
    "from src.brain_tumor_classification.constants import * \n",
    "from src.brain_tumor_classification.config import * \n",
    "from src.brain_tumor_classification.utils.common import *"
   ]
  },
  {
   "cell_type": "code",
   "execution_count": 19,
   "metadata": {},
   "outputs": [],
   "source": [
    "#entity \n",
    "@dataclass\n",
    "class evaluation:\n",
    "    training_data: Path\n",
    "    model_path: Path\n",
    "    image_size: list\n"
   ]
  },
  {
   "cell_type": "code",
   "execution_count": 29,
   "metadata": {},
   "outputs": [],
   "source": [
    "\n",
    "class Configuration_manager:\n",
    "\n",
    "    def __init__(self,config_path=CONFIG_PATH,param_path=PARAMS_PATH):\n",
    "        config_path = Path(config_path)\n",
    "        param_path = Path(param_path)\n",
    "        self.config=read_yaml(config_path)\n",
    "        self.params=read_yaml(param_path)\n",
    "\n",
    "        create_directories([self.config.artifacts_root])\n",
    "\n",
    "\n",
    "    def evluation_config(self)->evaluation:\n",
    "        config=self.config.training\n",
    "\n",
    "        evaluation_stats=evaluation(\n",
    "            training_data=Path(\"artifacts/data_ingestion/files/bain_tumor/Testing\"),\n",
    "            model_path=config.trained_model_path,\n",
    "            image_size=self.params.Image_size\n",
    "        )\n",
    "\n",
    "        return evaluation_stats\n"
   ]
  },
  {
   "cell_type": "code",
   "execution_count": 35,
   "metadata": {},
   "outputs": [],
   "source": [
    "class Evaulation_start:\n",
    "    try:\n",
    "        def __init__(self,config:evaluation):\n",
    "            self.config=config\n",
    "\n",
    "\n",
    "        def train_images(self):\n",
    "            self.train_ds=tf.keras.preprocessing.image.ImageDataGenerator(\n",
    "                    rescale=1./255.,\n",
    "                    validation_split=0.2,\n",
    "                    horizontal_flip=True,rotation_range=0.2,zoom_range=0.2)\n",
    "        \n",
    "            self.val_ds=tf.keras.preprocessing.image.ImageDataGenerator(\n",
    "                rescale=1./255.,\n",
    "                validation_split=0.2\n",
    "            )\n",
    "        \n",
    "            self.train_img=self.train_ds.flow_from_directory(self.config.training_data,target_size=(224,224),\n",
    "                                                        class_mode=\"categorical\",batch_size=12,seed=1337,\n",
    "                                                        subset=\"training\")\n",
    "        \n",
    "            self.valid_img=self.val_ds.flow_from_directory(self.config.training_data,target_size=(224,224),\n",
    "                                                    class_mode=\"categorical\",batch_size=12,seed=1337,\n",
    "                                                    subset=\"validation\")\n",
    "        \n",
    "    \n",
    "        def load_model(self):\n",
    "            return tf.keras.models.load_model(self.config.model_path)\n",
    "    \n",
    "\n",
    "\n",
    "        def evaluation(self):\n",
    "            self.model=self.load_model()\n",
    "        \n",
    "            self.score=self.model.evaluate(self.valid_img)\n",
    "\n",
    "    \n",
    "        def evaluate_score(self):\n",
    "            return f\"loss is {self.score[0]} and accuracy is {self.score[1]}\"\n",
    "        \n",
    "\n",
    "    except Exception as e:\n",
    "        raise(Custom_Exception(e,sys))\n",
    "    \n",
    "\n",
    "        "
   ]
  },
  {
   "cell_type": "code",
   "execution_count": 36,
   "metadata": {},
   "outputs": [
    {
     "name": "stdout",
     "output_type": "stream",
     "text": [
      "Found 1049 images belonging to 4 classes.\n"
     ]
    },
    {
     "name": "stdout",
     "output_type": "stream",
     "text": [
      "Found 262 images belonging to 4 classes.\n",
      "22/22 [==============================] - 23s 1s/step - loss: 0.9195 - accuracy: 0.6489\n"
     ]
    },
    {
     "ename": "AttributeError",
     "evalue": "'Evaulation_start' object has no attribute 'save_score'",
     "output_type": "error",
     "traceback": [
      "\u001b[0;31m---------------------------------------------------------------------------\u001b[0m",
      "\u001b[0;31mAttributeError\u001b[0m                            Traceback (most recent call last)",
      "Cell \u001b[0;32mIn[36], line 7\u001b[0m\n\u001b[1;32m      5\u001b[0m z\u001b[38;5;241m.\u001b[39mevaluation()\n\u001b[1;32m      6\u001b[0m z\u001b[38;5;241m.\u001b[39mevaluate_score()\n\u001b[0;32m----> 7\u001b[0m \u001b[43mz\u001b[49m\u001b[38;5;241;43m.\u001b[39;49m\u001b[43msave_score\u001b[49m()\n",
      "\u001b[0;31mAttributeError\u001b[0m: 'Evaulation_start' object has no attribute 'save_score'"
     ]
    }
   ],
   "source": [
    "a=Configuration_manager()\n",
    "eval_=a.evluation_config()\n",
    "z=Evaulation_start(eval_)\n",
    "z.train_images()\n",
    "z.evaluation()\n",
    "z.evaluate_score()\n"
   ]
  },
  {
   "cell_type": "code",
   "execution_count": null,
   "metadata": {},
   "outputs": [],
   "source": []
  },
  {
   "cell_type": "code",
   "execution_count": null,
   "metadata": {},
   "outputs": [],
   "source": []
  }
 ],
 "metadata": {
  "kernelspec": {
   "display_name": "brain",
   "language": "python",
   "name": "python3"
  },
  "language_info": {
   "codemirror_mode": {
    "name": "ipython",
    "version": 3
   },
   "file_extension": ".py",
   "mimetype": "text/x-python",
   "name": "python",
   "nbconvert_exporter": "python",
   "pygments_lexer": "ipython3",
   "version": "3.8.19"
  }
 },
 "nbformat": 4,
 "nbformat_minor": 2
}
