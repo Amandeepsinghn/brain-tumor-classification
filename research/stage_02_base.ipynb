{
 "cells": [
  {
   "cell_type": "code",
   "execution_count": 1,
   "metadata": {},
   "outputs": [
    {
     "name": "stderr",
     "output_type": "stream",
     "text": [
      "2024-05-12 23:10:25.514142: I tensorflow/tsl/cuda/cudart_stub.cc:28] Could not find cuda drivers on your machine, GPU will not be used.\n",
      "2024-05-12 23:10:25.719504: I tensorflow/tsl/cuda/cudart_stub.cc:28] Could not find cuda drivers on your machine, GPU will not be used.\n",
      "2024-05-12 23:10:25.720923: I tensorflow/core/platform/cpu_feature_guard.cc:182] This TensorFlow binary is optimized to use available CPU instructions in performance-critical operations.\n",
      "To enable the following instructions: AVX2 FMA, in other operations, rebuild TensorFlow with the appropriate compiler flags.\n",
      "2024-05-12 23:10:26.607346: W tensorflow/compiler/tf2tensorrt/utils/py_utils.cc:38] TF-TRT Warning: Could not find TensorRT\n"
     ]
    }
   ],
   "source": [
    "import tensorflow as tf"
   ]
  },
  {
   "cell_type": "code",
   "execution_count": 25,
   "metadata": {},
   "outputs": [],
   "source": [
    "from src.brain_tumor_classification.utils import *\n",
    "from src.brain_tumor_classification.exception import Custom_Exception"
   ]
  },
  {
   "cell_type": "code",
   "execution_count": 22,
   "metadata": {},
   "outputs": [],
   "source": [
    "from tensorflow.keras.models import save_model"
   ]
  },
  {
   "cell_type": "code",
   "execution_count": 13,
   "metadata": {},
   "outputs": [
    {
     "data": {
      "text/plain": [
       "b'/home/googlyji/ml_projects/dl_projects/brain_tumor/brain-tumor-classification'"
      ]
     },
     "execution_count": 13,
     "metadata": {},
     "output_type": "execute_result"
    }
   ],
   "source": [
    "os.getcwdb()"
   ]
  },
  {
   "cell_type": "code",
   "execution_count": 10,
   "metadata": {},
   "outputs": [],
   "source": [
    "os.chdir(\"../\")"
   ]
  },
  {
   "cell_type": "code",
   "execution_count": 12,
   "metadata": {},
   "outputs": [],
   "source": [
    "import os "
   ]
  },
  {
   "cell_type": "code",
   "execution_count": 36,
   "metadata": {},
   "outputs": [],
   "source": [
    "from src.brain_tumor_classification.exception import Custom_Exception"
   ]
  },
  {
   "cell_type": "code",
   "execution_count": null,
   "metadata": {},
   "outputs": [],
   "source": [
    "from tensorflow.keras.applications import saved_model"
   ]
  },
  {
   "cell_type": "code",
   "execution_count": 14,
   "metadata": {},
   "outputs": [],
   "source": [
    "from src.brain_tumor_classification.constants import *"
   ]
  },
  {
   "cell_type": "code",
   "execution_count": 2,
   "metadata": {},
   "outputs": [],
   "source": [
    "from tensorflow.keras.layers import Dense,GlobalMaxPooling2D,Flatten,Dropout\n",
    "from tensorflow.keras.models import Model,Sequential"
   ]
  },
  {
   "cell_type": "code",
   "execution_count": 4,
   "metadata": {},
   "outputs": [],
   "source": [
    "from tensorflow.keras.applications import VGG16\n",
    "from tensorflow.keras.preprocessing.image import ImageDataGenerator\n",
    "from dataclasses import dataclass\n",
    "from pathlib import Path"
   ]
  },
  {
   "cell_type": "code",
   "execution_count": 34,
   "metadata": {},
   "outputs": [],
   "source": [
    "from src.brain_tumor_classification.utils.common import *"
   ]
  },
  {
   "cell_type": "code",
   "execution_count": 44,
   "metadata": {},
   "outputs": [],
   "source": [
    "@dataclass\n",
    "class Base_model:\n",
    "    root_dir: Path\n",
    "    model_weights: Path\n",
    "    updated_model_weights:Path\n",
    "    Image_size: list\n",
    "    Batch_size: int\n",
    "    weights: str\n",
    "    epochs: int\n",
    "    classes: int\n",
    "    include_top:bool\n"
   ]
  },
  {
   "cell_type": "code",
   "execution_count": 45,
   "metadata": {},
   "outputs": [],
   "source": [
    "# configuration manger\n",
    "class Configuration_manager:\n",
    "    def __init__(self,config=CONFIG_PATH,params=PARAMS_PATH):\n",
    "        self.config=read_yaml(config)\n",
    "        self.params=read_yaml(params)\n",
    "        \n",
    "        create_directories([self.config.artifacts_root])\n",
    "\n",
    "    def base_model_config(self)->Base_model:\n",
    "        config=self.config.base_model\n",
    "\n",
    "        base_model_config=Base_model(root_dir=config.root_dir,model_weights=config.model_weights,updated_model_weights=config.updated_model_weights,\n",
    "                                    Image_size=self.params.Image_size, \n",
    "                                    Batch_size=self.params.Batch_size,\n",
    "                                    weights=self.params.weights,\n",
    "                                    epochs=self.params.epochs,\n",
    "                                    classes=self.params.classes,\n",
    "                                    include_top=self.params.include_top)\n",
    "        \n",
    "\n",
    "        return base_model_config\n",
    "        \n",
    "\n",
    "\n",
    "\n",
    "        \n"
   ]
  },
  {
   "cell_type": "code",
   "execution_count": 61,
   "metadata": {},
   "outputs": [],
   "source": [
    "# components \n",
    "class Prepare_base_model:\n",
    "    \n",
    "    def __init__(self,config1:Base_model):\n",
    "        self.config=config1\n",
    "\n",
    "    def prepare_base_model(self):\n",
    "        self.base_mod=tf.keras.applications.vgg16.VGG16(input_shape=self.config.Image_size,include_top=self.config.include_top,weights=self.config.weights)\n",
    "\n",
    "        self.base_mod.summary()\n",
    "\n",
    "        save_model(filepath=self.config.model_weights,model=self.base_mod)\n",
    "    \n",
    "\n",
    "\n",
    "    def prepare_full_model(self,model):\n",
    "        for i in model.layers:\n",
    "            i.trainable=False   ## it will preserve the initail weights of the model \n",
    "\n",
    "        x=model.output \n",
    "        x=tf.keras.layers.GlobalAveragePooling2D()(x)\n",
    "        x=tf.keras.layers.Dense(256,activation=\"relu\")(x)\n",
    "        prediction=tf.keras.layers.Dense(4,activation=\"softmax\")\n",
    "\n",
    "        model=Model(inputs=model.input,outputs=prediction)\n",
    "\n",
    "        model.compile(optimizer=tf.keras.optimizers.Adam,loss=tf.keras.losses.CategoricalCrossentropy,metrics=[\"accuracy\"])\n",
    "\n",
    "        model.summary()\n",
    "\n",
    "        save_model(filepath=self.config.updated_model_weights,model=model)\n",
    "\n",
    "        return model \n",
    "    \n",
    "    \n",
    "    \n",
    "\n",
    "\n",
    "\n",
    "\n",
    "\n",
    "\n",
    "\n",
    "\n",
    "        "
   ]
  },
  {
   "cell_type": "code",
   "execution_count": 62,
   "metadata": {},
   "outputs": [
    {
     "name": "stdout",
     "output_type": "stream",
     "text": [
      "Model: \"vgg16\"\n",
      "_________________________________________________________________\n",
      " Layer (type)                Output Shape              Param #   \n",
      "=================================================================\n",
      " input_10 (InputLayer)       [(None, 224, 224, 3)]     0         \n",
      "                                                                 \n",
      " block1_conv1 (Conv2D)       (None, 224, 224, 64)      1792      \n",
      "                                                                 \n",
      " block1_conv2 (Conv2D)       (None, 224, 224, 64)      36928     \n",
      "                                                                 \n",
      " block1_pool (MaxPooling2D)  (None, 112, 112, 64)      0         \n",
      "                                                                 \n",
      " block2_conv1 (Conv2D)       (None, 112, 112, 128)     73856     \n",
      "                                                                 \n",
      " block2_conv2 (Conv2D)       (None, 112, 112, 128)     147584    \n",
      "                                                                 \n",
      " block2_pool (MaxPooling2D)  (None, 56, 56, 128)       0         \n",
      "                                                                 \n",
      " block3_conv1 (Conv2D)       (None, 56, 56, 256)       295168    \n",
      "                                                                 \n",
      " block3_conv2 (Conv2D)       (None, 56, 56, 256)       590080    \n",
      "                                                                 \n",
      " block3_conv3 (Conv2D)       (None, 56, 56, 256)       590080    \n",
      "                                                                 \n",
      " block3_pool (MaxPooling2D)  (None, 28, 28, 256)       0         \n",
      "                                                                 \n",
      " block4_conv1 (Conv2D)       (None, 28, 28, 512)       1180160   \n",
      "                                                                 \n",
      " block4_conv2 (Conv2D)       (None, 28, 28, 512)       2359808   \n",
      "                                                                 \n",
      " block4_conv3 (Conv2D)       (None, 28, 28, 512)       2359808   \n",
      "                                                                 \n",
      " block4_pool (MaxPooling2D)  (None, 14, 14, 512)       0         \n",
      "                                                                 \n",
      " block5_conv1 (Conv2D)       (None, 14, 14, 512)       2359808   \n",
      "                                                                 \n",
      " block5_conv2 (Conv2D)       (None, 14, 14, 512)       2359808   \n",
      "                                                                 \n",
      " block5_conv3 (Conv2D)       (None, 14, 14, 512)       2359808   \n",
      "                                                                 \n",
      " block5_pool (MaxPooling2D)  (None, 7, 7, 512)         0         \n",
      "                                                                 \n",
      "=================================================================\n",
      "Total params: 14714688 (56.13 MB)\n",
      "Trainable params: 14714688 (56.13 MB)\n",
      "Non-trainable params: 0 (0.00 Byte)\n",
      "_________________________________________________________________\n",
      "WARNING:tensorflow:Compiled the loaded model, but the compiled metrics have yet to be built. `model.compile_metrics` will be empty until you train or evaluate the model.\n"
     ]
    },
    {
     "name": "stderr",
     "output_type": "stream",
     "text": [
      "/tmp/ipykernel_96823/673948538.py:12: UserWarning: You are saving your model as an HDF5 file via `model.save()`. This file format is considered legacy. We recommend using instead the native Keras format, e.g. `model.save('my_model.keras')`.\n",
      "  save_model(filepath=self.config.model_weights,model=self.base_mod)\n"
     ]
    }
   ],
   "source": [
    "try:\n",
    "    config=Configuration_manager()\n",
    "    config=config.base_model_config()\n",
    "    a=Prepare_base_model(config1=config)\n",
    "    a.prepare_base_model()\n",
    "    \n",
    "except Exception as e:\n",
    "    raise(Custom_Exception(e,sys))"
   ]
  },
  {
   "cell_type": "code",
   "execution_count": 27,
   "metadata": {},
   "outputs": [],
   "source": [
    "import sys"
   ]
  },
  {
   "cell_type": "code",
   "execution_count": null,
   "metadata": {},
   "outputs": [],
   "source": []
  }
 ],
 "metadata": {
  "kernelspec": {
   "display_name": "brain",
   "language": "python",
   "name": "python3"
  },
  "language_info": {
   "codemirror_mode": {
    "name": "ipython",
    "version": 3
   },
   "file_extension": ".py",
   "mimetype": "text/x-python",
   "name": "python",
   "nbconvert_exporter": "python",
   "pygments_lexer": "ipython3",
   "version": "3.8.19"
  }
 },
 "nbformat": 4,
 "nbformat_minor": 2
}
