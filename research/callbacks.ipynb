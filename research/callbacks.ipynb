{
 "cells": [
  {
   "cell_type": "code",
   "execution_count": 4,
   "metadata": {},
   "outputs": [],
   "source": [
    "import tensorflow as tf\n",
    "import os \n",
    "import sys \n",
    "from src.brain_tumor_classification.exception import Custom_Exception\n",
    "from src.brain_tumor_classification.logger import logging\n",
    "from tensorflow import keras"
   ]
  },
  {
   "cell_type": "code",
   "execution_count": 5,
   "metadata": {},
   "outputs": [],
   "source": [
    "import datetime"
   ]
  },
  {
   "cell_type": "code",
   "execution_count": 6,
   "metadata": {},
   "outputs": [
    {
     "data": {
      "text/plain": [
       "'22-58'"
      ]
     },
     "execution_count": 6,
     "metadata": {},
     "output_type": "execute_result"
    }
   ],
   "source": [
    "datetime.datetime.now().strftime(\"%H-%M\")"
   ]
  },
  {
   "cell_type": "code",
   "execution_count": 2,
   "metadata": {},
   "outputs": [],
   "source": [
    "os.chdir(\"../\")"
   ]
  },
  {
   "cell_type": "code",
   "execution_count": 3,
   "metadata": {},
   "outputs": [
    {
     "data": {
      "text/plain": [
       "'/home/googlyji/ml_projects/dl_projects/brain_tumor/brain-tumor-classification'"
      ]
     },
     "execution_count": 3,
     "metadata": {},
     "output_type": "execute_result"
    }
   ],
   "source": [
    "os.getcwd()"
   ]
  },
  {
   "cell_type": "code",
   "execution_count": 7,
   "metadata": {},
   "outputs": [],
   "source": [
    "from dataclasses import dataclass\n",
    "from pathlib import Path"
   ]
  },
  {
   "cell_type": "code",
   "execution_count": 8,
   "metadata": {},
   "outputs": [],
   "source": [
    "from src.brain_tumor_classification.constants import *\n",
    "from src.brain_tumor_classification.utils.common import *"
   ]
  },
  {
   "cell_type": "code",
   "execution_count": 29,
   "metadata": {},
   "outputs": [],
   "source": [
    "@dataclass\n",
    "class check_:\n",
    "    root_dir: Path\n",
    "    tensorboard_dir: Path\n",
    "    checkpoint: Path"
   ]
  },
  {
   "cell_type": "code",
   "execution_count": 33,
   "metadata": {},
   "outputs": [],
   "source": [
    "#configuration\n",
    "class checkpoint_config:\n",
    "    def __init__(self,config=CONFIG_PATH,params=PARAMS_PATH):\n",
    "        self.config=read_yaml(config)\n",
    "        self.params=params\n",
    "\n",
    "        create_directories([self.config.artifacts_root])\n",
    "\n",
    "    def config_check(self)->check_:\n",
    "        try:\n",
    "            config=self.config.prepare_callbacks\n",
    "\n",
    "            create_directories([config.root_dir])\n",
    "            create_directories([config.tensorboard_dir])\n",
    "            create_directories([config.checkpoint])\n",
    "\n",
    "\n",
    "            data_checkpoint=check_(\n",
    "                root_dir=config.root_dir,\n",
    "                tensorboard_dir=config.tensorboard_dir,\n",
    "                checkpoint=config.checkpoint\n",
    "            )\n",
    "\n",
    "            return data_checkpoint\n",
    "    \n",
    "        except Exception as e:\n",
    "            raise(Custom_Exception,sys)\n",
    "        \n",
    "\n",
    "        \n",
    "\n"
   ]
  },
  {
   "cell_type": "code",
   "execution_count": 34,
   "metadata": {},
   "outputs": [],
   "source": [
    "# components\n",
    "class comp_checkpoint_ingestion:\n",
    "    def __init__(self,config1:check_):\n",
    "        self.config=config1\n",
    "\n",
    "    def create_tb_intialization(self):\n",
    "        a=datetime.datetime.now().strftime(\"%H-%M\")\n",
    "        running_logs=os.path.join(self.config.tensorboard_dir,a)\n",
    "        tensor_board=tf.keras.callbacks.TensorBoard(log_dir=running_logs)\n",
    "\n",
    "        return tensor_board\n",
    "    \n",
    "    def create_chkpt_callbacks(self):\n",
    "        checkpoint=tf.keras.callbacks.ModelCheckpoint(filepath=self.config.checkpoint,save_best_only=True)\n",
    "\n",
    "        return checkpoint\n",
    "    \n",
    "\n",
    "    def callback_tb_ckt(self):\n",
    "        return [self.create_tb_intialization,self.create_chkpt_callbacks]\n",
    "    \n",
    "\n",
    "\n"
   ]
  },
  {
   "cell_type": "code",
   "execution_count": 36,
   "metadata": {},
   "outputs": [],
   "source": [
    "b=checkpoint_config()\n",
    "a=b.config_check()\n",
    "v=comp_checkpoint_ingestion(a)\n",
    "x=v.create_chkpt_callbacks()\n",
    "m=v.create_tb_intialization()\n",
    "b=v.callback_tb_ckt()\n"
   ]
  },
  {
   "cell_type": "code",
   "execution_count": 1,
   "metadata": {},
   "outputs": [],
   "source": [
    "import os"
   ]
  },
  {
   "cell_type": "code",
   "execution_count": 4,
   "metadata": {},
   "outputs": [
    {
     "data": {
      "text/plain": [
       "'/home/googlyji/ml_projects/dl_projects/brain_tumor/brain-tumor-classification'"
      ]
     },
     "execution_count": 4,
     "metadata": {},
     "output_type": "execute_result"
    }
   ],
   "source": [
    "os.getcwd()"
   ]
  },
  {
   "cell_type": "code",
   "execution_count": 3,
   "metadata": {},
   "outputs": [],
   "source": [
    "os.chdir(\"../\")"
   ]
  },
  {
   "cell_type": "code",
   "execution_count": null,
   "metadata": {},
   "outputs": [],
   "source": []
  },
  {
   "cell_type": "code",
   "execution_count": null,
   "metadata": {},
   "outputs": [],
   "source": []
  }
 ],
 "metadata": {
  "kernelspec": {
   "display_name": "brain",
   "language": "python",
   "name": "python3"
  },
  "language_info": {
   "codemirror_mode": {
    "name": "ipython",
    "version": 3
   },
   "file_extension": ".py",
   "mimetype": "text/x-python",
   "name": "python",
   "nbconvert_exporter": "python",
   "pygments_lexer": "ipython3",
   "version": "3.8.19"
  }
 },
 "nbformat": 4,
 "nbformat_minor": 2
}
